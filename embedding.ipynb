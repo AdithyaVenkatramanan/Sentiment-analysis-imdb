{
 "cells": [
  {
   "cell_type": "code",
   "execution_count": 1,
   "id": "5e452b1a",
   "metadata": {},
   "outputs": [],
   "source": [
    "from tensorflow.keras.preprocessing.text import one_hot\n"
   ]
  },
  {
   "cell_type": "code",
   "execution_count": 2,
   "id": "bdfdfd9e",
   "metadata": {},
   "outputs": [],
   "source": [
    "sent =[ 'the glass of milk',\n",
    "        'the glass of juice',\n",
    "        'the cup of tea',\n",
    "        'I am good boy',\n",
    "        'I am a good developer',\n",
    "        'understand the meaning of words',\n",
    "        'your videos are good',]"
   ]
  },
  {
   "cell_type": "code",
   "execution_count": 3,
   "id": "c69d2129",
   "metadata": {},
   "outputs": [
    {
     "data": {
      "text/plain": [
       "['the glass of milk',\n",
       " 'the glass of juice',\n",
       " 'the cup of tea',\n",
       " 'I am good boy',\n",
       " 'I am a good developer',\n",
       " 'understand the meaning of words',\n",
       " 'your videos are good']"
      ]
     },
     "execution_count": 3,
     "metadata": {},
     "output_type": "execute_result"
    }
   ],
   "source": [
    "sent"
   ]
  },
  {
   "cell_type": "code",
   "execution_count": 4,
   "id": "dad22dbf",
   "metadata": {},
   "outputs": [],
   "source": [
    "voc_size = 10000"
   ]
  },
  {
   "cell_type": "code",
   "execution_count": 6,
   "id": "cefdd7e5",
   "metadata": {},
   "outputs": [
    {
     "data": {
      "text/plain": [
       "[[9409, 6336, 4594, 8707],\n",
       " [9409, 6336, 4594, 7207],\n",
       " [9409, 6954, 4594, 9782],\n",
       " [6100, 5246, 8188, 6739],\n",
       " [6100, 5246, 4367, 8188, 2503],\n",
       " [3865, 9409, 340, 4594, 9663],\n",
       " [1525, 3772, 2067, 8188]]"
      ]
     },
     "execution_count": 6,
     "metadata": {},
     "output_type": "execute_result"
    }
   ],
   "source": [
    "\n",
    "one_hot_repr = [one_hot(words, voc_size) for words in sent]\n",
    "one_hot_repr"
   ]
  },
  {
   "cell_type": "code",
   "execution_count": 7,
   "id": "406b383d",
   "metadata": {},
   "outputs": [],
   "source": [
    "from tensorflow.keras.layers import Embedding\n",
    "from tensorflow.keras.models import Sequential\n",
    "from tensorflow.keras.utils import pad_sequences\n"
   ]
  },
  {
   "cell_type": "code",
   "execution_count": 8,
   "id": "9e21c8f0",
   "metadata": {},
   "outputs": [],
   "source": [
    "import numpy as np"
   ]
  },
  {
   "cell_type": "code",
   "execution_count": 9,
   "id": "386d73d2",
   "metadata": {},
   "outputs": [
    {
     "data": {
      "text/plain": [
       "array([[   0,    0,    0,    0, 9409, 6336, 4594, 8707],\n",
       "       [   0,    0,    0,    0, 9409, 6336, 4594, 7207],\n",
       "       [   0,    0,    0,    0, 9409, 6954, 4594, 9782],\n",
       "       [   0,    0,    0,    0, 6100, 5246, 8188, 6739],\n",
       "       [   0,    0,    0, 6100, 5246, 4367, 8188, 2503],\n",
       "       [   0,    0,    0, 3865, 9409,  340, 4594, 9663],\n",
       "       [   0,    0,    0,    0, 1525, 3772, 2067, 8188]])"
      ]
     },
     "execution_count": 9,
     "metadata": {},
     "output_type": "execute_result"
    }
   ],
   "source": [
    "set_length = 8\n",
    "embedded_docs = pad_sequences(one_hot_repr, maxlen=set_length, padding='pre')\n",
    "embedded_docs"
   ]
  },
  {
   "cell_type": "code",
   "execution_count": 10,
   "id": "4f88f987",
   "metadata": {},
   "outputs": [],
   "source": [
    "dim=10"
   ]
  },
  {
   "cell_type": "code",
   "execution_count": 11,
   "id": "4fe23014",
   "metadata": {},
   "outputs": [
    {
     "name": "stdout",
     "output_type": "stream",
     "text": [
      "WARNING:tensorflow:From c:\\Users\\Adithya V\\anaconda3\\envs\\venv\\Lib\\site-packages\\keras\\src\\backend.py:873: The name tf.get_default_graph is deprecated. Please use tf.compat.v1.get_default_graph instead.\n",
      "\n",
      "WARNING:tensorflow:From c:\\Users\\Adithya V\\anaconda3\\envs\\venv\\Lib\\site-packages\\keras\\src\\optimizers\\__init__.py:309: The name tf.train.Optimizer is deprecated. Please use tf.compat.v1.train.Optimizer instead.\n",
      "\n"
     ]
    }
   ],
   "source": [
    "model = Sequential()\n",
    "model.add(Embedding(voc_size, dim, input_length=set_length))\n",
    "model.compile('adam', 'mse')"
   ]
  },
  {
   "cell_type": "code",
   "execution_count": 12,
   "id": "0b04b8e6",
   "metadata": {},
   "outputs": [
    {
     "name": "stdout",
     "output_type": "stream",
     "text": [
      "Model: \"sequential\"\n",
      "_________________________________________________________________\n",
      " Layer (type)                Output Shape              Param #   \n",
      "=================================================================\n",
      " embedding (Embedding)       (None, 8, 10)             100000    \n",
      "                                                                 \n",
      "=================================================================\n",
      "Total params: 100000 (390.62 KB)\n",
      "Trainable params: 100000 (390.62 KB)\n",
      "Non-trainable params: 0 (0.00 Byte)\n",
      "_________________________________________________________________\n"
     ]
    }
   ],
   "source": [
    "model.summary()"
   ]
  },
  {
   "cell_type": "code",
   "execution_count": 13,
   "id": "7a6a7edd",
   "metadata": {},
   "outputs": [
    {
     "data": {
      "text/plain": [
       "array([   0,    0,    0,    0, 9409, 6336, 4594, 8707])"
      ]
     },
     "execution_count": 13,
     "metadata": {},
     "output_type": "execute_result"
    }
   ],
   "source": [
    "embedded_docs[0]"
   ]
  },
  {
   "cell_type": "code",
   "execution_count": 14,
   "id": "f19773eb",
   "metadata": {},
   "outputs": [
    {
     "name": "stdout",
     "output_type": "stream",
     "text": [
      "1/1 [==============================] - 1s 1s/step\n"
     ]
    },
    {
     "data": {
      "text/plain": [
       "array([[ 0.01755892,  0.02276037, -0.03727264, -0.00792072, -0.03235445,\n",
       "         0.04243684, -0.02954094,  0.00750558,  0.0049943 ,  0.00347584],\n",
       "       [ 0.01755892,  0.02276037, -0.03727264, -0.00792072, -0.03235445,\n",
       "         0.04243684, -0.02954094,  0.00750558,  0.0049943 ,  0.00347584],\n",
       "       [ 0.01755892,  0.02276037, -0.03727264, -0.00792072, -0.03235445,\n",
       "         0.04243684, -0.02954094,  0.00750558,  0.0049943 ,  0.00347584],\n",
       "       [ 0.01755892,  0.02276037, -0.03727264, -0.00792072, -0.03235445,\n",
       "         0.04243684, -0.02954094,  0.00750558,  0.0049943 ,  0.00347584],\n",
       "       [-0.02107589,  0.04893339,  0.01311762,  0.04654893,  0.00831459,\n",
       "        -0.04782008,  0.01490602, -0.04824158,  0.00357075, -0.03937368],\n",
       "       [-0.00300447, -0.00878084, -0.01930522,  0.02803368, -0.00632124,\n",
       "        -0.02274015, -0.0481748 ,  0.03628751,  0.00228709, -0.02180822],\n",
       "       [-0.01124537,  0.04676299, -0.02994161, -0.00613667,  0.02443634,\n",
       "        -0.01687586, -0.00896763,  0.01396443,  0.02006271, -0.01281714],\n",
       "       [ 0.02928617,  0.04182501,  0.00267195,  0.00784087, -0.00771708,\n",
       "        -0.04677609, -0.03646914, -0.00422158,  0.00678445, -0.04100449]],\n",
       "      dtype=float32)"
      ]
     },
     "execution_count": 14,
     "metadata": {},
     "output_type": "execute_result"
    }
   ],
   "source": [
    "model.predict(embedded_docs[0])"
   ]
  }
 ],
 "metadata": {
  "kernelspec": {
   "display_name": "venv",
   "language": "python",
   "name": "python3"
  },
  "language_info": {
   "codemirror_mode": {
    "name": "ipython",
    "version": 3
   },
   "file_extension": ".py",
   "mimetype": "text/x-python",
   "name": "python",
   "nbconvert_exporter": "python",
   "pygments_lexer": "ipython3",
   "version": "3.11.0"
  }
 },
 "nbformat": 4,
 "nbformat_minor": 5
}
