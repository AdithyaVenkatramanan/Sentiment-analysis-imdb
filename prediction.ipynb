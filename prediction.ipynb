{
 "cells": [
  {
   "cell_type": "code",
   "execution_count": 11,
   "id": "d35bc095",
   "metadata": {},
   "outputs": [],
   "source": [
    "import numpy as np\n",
    "import tensorflow as tf\n",
    "from tensorflow.keras.datasets import imdb\n",
    "from tensorflow.keras.preprocessing import sequence\n",
    "from tensorflow.keras.models import Sequential\n",
    "from tensorflow.keras.models import load_model\n",
    "from keras.preprocessing.sequence import pad_sequences"
   ]
  },
  {
   "cell_type": "code",
   "execution_count": 5,
   "id": "1af8edbd",
   "metadata": {},
   "outputs": [],
   "source": [
    "word_index= imdb.get_word_index()\n",
    "reverse_word_index = {value:key for (key, value) in word_index.items()}\n"
   ]
  },
  {
   "cell_type": "code",
   "execution_count": 6,
   "id": "3c906a31",
   "metadata": {},
   "outputs": [
    {
     "name": "stdout",
     "output_type": "stream",
     "text": [
      "WARNING:tensorflow:From c:\\Users\\Adithya V\\anaconda3\\envs\\venv\\Lib\\site-packages\\keras\\src\\backend.py:1398: The name tf.executing_eagerly_outside_functions is deprecated. Please use tf.compat.v1.executing_eagerly_outside_functions instead.\n",
      "\n",
      "Model: \"sequential_1\"\n",
      "_________________________________________________________________\n",
      " Layer (type)                Output Shape              Param #   \n",
      "=================================================================\n",
      " embedding_1 (Embedding)     (None, 500, 128)          1280000   \n",
      "                                                                 \n",
      " simple_rnn (SimpleRNN)      (None, 128)               32896     \n",
      "                                                                 \n",
      " dense (Dense)               (None, 1)                 129       \n",
      "                                                                 \n",
      "=================================================================\n",
      "Total params: 1313025 (5.01 MB)\n",
      "Trainable params: 1313025 (5.01 MB)\n",
      "Non-trainable params: 0 (0.00 Byte)\n",
      "_________________________________________________________________\n"
     ]
    }
   ],
   "source": [
    "model=load_model('imdb_rnn_model.h5')\n",
    "model.summary()"
   ]
  },
  {
   "cell_type": "code",
   "execution_count": 7,
   "id": "32290f8a",
   "metadata": {},
   "outputs": [],
   "source": [
    "# step2: Helper function to decode reviews\n",
    "def decode_review(text):\n",
    "    return ' '.join([reverse_word_index.get(i - 3, '?') for i in text]) "
   ]
  },
  {
   "cell_type": "code",
   "execution_count": null,
   "id": "ba4a7f3c",
   "metadata": {},
   "outputs": [],
   "source": [
    "# function to preprocess user input\n",
    "def preprocess_input(user_input):\n",
    "    words = user_input.lower().split()\n",
    "    # Convert the input text to a sequence of integers\n",
    "    sequence = [word_index.get(word, 2) for word in words]\n",
    "    # Pad the sequence to ensure it has the same length as the training data\n",
    "    padded_sequence = pad_sequences([sequence], maxlen=500,padding='pre')\n",
    "    return padded_sequence"
   ]
  },
  {
   "cell_type": "code",
   "execution_count": 16,
   "id": "583403b3",
   "metadata": {},
   "outputs": [],
   "source": [
    "def predict_sentiment(user_input):\n",
    "    # Preprocess the user input\n",
    "    padded_sequence = preprocess_input(user_input)\n",
    "    \n",
    "    # Predict sentiment\n",
    "    prediction = model.predict(padded_sequence)\n",
    "    \n",
    "    # Interpret the prediction\n",
    "    sentiment = 'Positive' if prediction[0][0] > 0.5 else 'Negative'\n",
    "    \n",
    "    return sentiment, prediction[0][0]"
   ]
  },
  {
   "cell_type": "code",
   "execution_count": 17,
   "id": "fb8a9f9f",
   "metadata": {},
   "outputs": [
    {
     "name": "stdout",
     "output_type": "stream",
     "text": [
      "1/1 [==============================] - 2s 2s/step\n",
      "Review: This movie was fantastic! I loved it.\n",
      "Sentiment: Positive (Score: 0.9736)\n"
     ]
    }
   ],
   "source": [
    "# step 4 : Example usage\n",
    "example_review = \"This movie was fantastic! I loved it.\"\n",
    "sentiment, score= predict_sentiment(example_review)\n",
    "\n",
    "print(f\"Review: {example_review}\")\n",
    "print(f\"Sentiment: {sentiment} (Score: {score:.4f})\")"
   ]
  }
 ],
 "metadata": {
  "kernelspec": {
   "display_name": "venv",
   "language": "python",
   "name": "python3"
  },
  "language_info": {
   "codemirror_mode": {
    "name": "ipython",
    "version": 3
   },
   "file_extension": ".py",
   "mimetype": "text/x-python",
   "name": "python",
   "nbconvert_exporter": "python",
   "pygments_lexer": "ipython3",
   "version": "3.11.0"
  }
 },
 "nbformat": 4,
 "nbformat_minor": 5
}
